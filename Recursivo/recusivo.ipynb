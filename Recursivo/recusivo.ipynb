{
 "cells": [
  {
   "cell_type": "code",
   "execution_count": null,
   "metadata": {},
   "outputs": [],
   "source": [
    "import matplotlib.pyplot as plt\n",
    "import numpy as np\n",
    "%matplotlib inline\n",
    "import pandas as pd"
   ]
  },
  {
   "cell_type": "code",
   "execution_count": null,
   "metadata": {},
   "outputs": [],
   "source": [
    "df = pd.read_csv('Graficar.csv')\n",
    "x= df['PSecuencia']\n",
    "y=df['Tiempo']"
   ]
  },
  {
   "cell_type": "code",
   "execution_count": null,
   "metadata": {},
   "outputs": [],
   "source": [
    "plt.ylabel(\"Tiempo (s)\")\n",
    "plt.xlabel(\"Puesto en la secuencia\")\n",
    "plt.title(\"Fibonacci Recursivo\")\n",
    "plt.plot(x, y,marker=\".\")\n",
    "plt.savefig(\"Recursivo.png\")"
   ]
  }
 ],
 "metadata": {
  "language_info": {
   "name": "python"
  }
 },
 "nbformat": 4,
 "nbformat_minor": 2
}
